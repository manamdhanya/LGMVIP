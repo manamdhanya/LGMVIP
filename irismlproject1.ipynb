{
  "nbformat": 4,
  "nbformat_minor": 0,
  "metadata": {
    "colab": {
      "provenance": [],
      "authorship_tag": "ABX9TyOnf07lQoDrAQqDzXXZLwaX",
      "include_colab_link": true
    },
    "kernelspec": {
      "name": "python3",
      "display_name": "Python 3"
    },
    "language_info": {
      "name": "python"
    }
  },
  "cells": [
    {
      "cell_type": "markdown",
      "metadata": {
        "id": "view-in-github",
        "colab_type": "text"
      },
      "source": [
        "<a href=\"https://colab.research.google.com/github/manamdhanya/LGMVIP/blob/main/irismlproject1.ipynb\" target=\"_parent\"><img src=\"https://colab.research.google.com/assets/colab-badge.svg\" alt=\"Open In Colab\"/></a>"
      ]
    },
    {
      "cell_type": "code",
      "execution_count": null,
      "metadata": {
        "colab": {
          "base_uri": "https://localhost:8080/"
        },
        "id": "6zbnQnmYGnt1",
        "outputId": "47368440-91c9-43ea-c6ec-132b9422fbb7"
      },
      "outputs": [
        {
          "output_type": "stream",
          "name": "stdout",
          "text": [
            "[0 0 0 0 0 0 0 0 0 0 0 0 0 0 0 0 0 0 0 0 0 0 0 0 0 0 0 0 0 0 0 0 0 0 0 0 0\n",
            " 0 0 0 0 0 0 0 0 0 0 0 0 0 1 1 1 1 1 1 1 1 1 1 1 1 1 1 1 1 1 1 1 1 1 1 1 1\n",
            " 1 1 1 1 1 1 1 1 1 1 1 1 1 1 1 1 1 1 1 1 1 1 1 1 1 1 2 2 2 2 2 2 2 2 2 2 2\n",
            " 2 2 2 2 2 2 2 2 2 2 2 2 2 2 2 2 2 2 2 2 2 2 2 2 2 2 2 2 2 2 2 2 2 2 2 2 2\n",
            " 2 2]\n"
          ]
        }
      ],
      "source": [
        "import numpy\n",
        "import matplotlib.pyplot as pyt\n",
        "from sklearn.datasets import load_iris\n",
        "data1 = load_iris()#GETS DATA SET\n",
        "X = data1.data#PETAL LENGTH WIDTH,SEPAL LENGTH WIDTH\n",
        "y = data1.target#CATEGROIES \n",
        "print(y)\n",
        "#print(data1.DESCR)\n",
        "#plt.plot(X[:,0][Y==0],X[:,0][Y==0],\"r.\")#VISUALISE"
      ]
    },
    {
      "cell_type": "code",
      "source": [
        "pyt.plot(X[:,0][y==0]*X[:,1][y==0],X[:,1][y==0]*X[:,2][y==0],\"r.\",label='Setosa')#VISUALISE\n",
        "pyt.plot(X[:,0][y==1]*X[:,1][y==1],X[:,0][y==1]*X[:,2][y==1],\"b.\",label='Versicolour')\n",
        "pyt.plot(X[:,0][y==2]*X[:,1][y==2],X[:,0][y==2]*X[:,2][y==2],\"g.\",label='Virginica')\n",
        "pyt.legend()\n",
        "pyt.show()"
      ],
      "metadata": {
        "colab": {
          "base_uri": "https://localhost:8080/",
          "height": 430
        },
        "id": "-FOf78zxKPZh",
        "outputId": "3edd2a7d-f143-473b-f9ab-6587c2cad9db"
      },
      "execution_count": null,
      "outputs": [
        {
          "output_type": "display_data",
          "data": {
            "text/plain": [
              "<Figure size 640x480 with 1 Axes>"
            ],
            "image/png": "[encoded data removed]"
          },
          "metadata": {}
        }
      ]
    },
    {
      "cell_type": "code",
      "source": [
        "from sklearn.preprocessing import StandardScaler\n",
        "X = StandardScaler().fit_transform(X) #standardize x value\n",
        "from sklearn.model_selection import train_test_split #before ml we train and testing model\n",
        "X_train ,  X_test, y_train , y_test = train_test_split(X,y)"
      ],
      "metadata": {
        "id": "08p6IludNHb0"
      },
      "execution_count": null,
      "outputs": []
    },
    {
      "cell_type": "code",
      "source": [
        "#creating ml model to catgerise 3 classes\n",
        "from sklearn.linear_model import LogisticRegression\n",
        "log_reg= LogisticRegression()#creates object\n",
        "log_reg.fit(X_train,y_train) #fit used to train MACHINE LEARNING MODEL\n",
        "log_reg.score(X_test,y_test) #TO PREDICT ACCURACY 92 PERCENT"
      ],
      "metadata": {
        "colab": {
          "base_uri": "https://localhost:8080/"
        },
        "id": "MMFdDhB7PP05",
        "outputId": "028f4826-e4fc-4c49-9280-9cef6c6cd62e"
      },
      "execution_count": null,
      "outputs": [
        {
          "output_type": "execute_result",
          "data": {
            "text/plain": [
              "0.9210526315789473"
            ]
          },
          "metadata": {},
          "execution_count": 38
        }
      ]
    },
    {
      "cell_type": "code",
      "source": [
        "log_reg.score(X,y)#on whole data set"
      ],
      "metadata": {
        "colab": {
          "base_uri": "https://localhost:8080/"
        },
        "id": "HmxSexPpSgPU",
        "outputId": "c426f5ef-8607-4bb9-f7d3-d7d43a5e6e70"
      },
      "execution_count": null,
      "outputs": [
        {
          "output_type": "execute_result",
          "data": {
            "text/plain": [
              "0.96"
            ]
          },
          "metadata": {},
          "execution_count": 40
        }
      ]
    }
  ]
}